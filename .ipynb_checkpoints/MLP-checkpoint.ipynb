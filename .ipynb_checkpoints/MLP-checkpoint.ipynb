{
 "cells": [
  {
   "cell_type": "code",
   "execution_count": 17,
   "metadata": {},
   "outputs": [],
   "source": [
    "import pandas as pd\n",
    "from sklearn.neural_network import MLPClassifier\n",
    "from sklearn.model_selection import train_test_split\n",
    "from sklearn.metrics import accuracy_score\n",
    "from sklearn.metrics import confusion_matrix\n",
    "from sklearn.model_selection import KFold\n",
    "\n",
    "from sklearn.linear_model import Perceptron\n",
    "\n",
    "import numpy as np"
   ]
  },
  {
   "cell_type": "code",
   "execution_count": 46,
   "metadata": {},
   "outputs": [],
   "source": [
    "def save_value(x,y):\n",
    "    if y == 0:\n",
    "        return 0\n",
    "    return x / y\n",
    "\n",
    "def ConfusionMatrix(y_true,y_predict):\n",
    "    CM=confusion_matrix(y_true, y_pred)\n",
    "    return CM\n",
    "\n",
    "# Multiclass Confusion Matrix\n",
    "# Entries:\n",
    "# y_true: true values of the classification\n",
    "# y_predict: predict values of the classification\n",
    "# C: quantity of classes \n",
    "\n",
    "# Haciendo la matriz de confusion binaria para la clase i\n",
    "def MultiClassConfusionMatrix(y_true,y_pred):\n",
    "    \n",
    "    C= np.unique(y_true)\n",
    "    D=len(C)\n",
    "    \n",
    "    # Matriz de confusion general \n",
    "    CM=confusion_matrix(y_true, y_pred)\n",
    "    #print('###### General Confusion Matrix #####')\n",
    "    #print(CM)\n",
    "        \n",
    "    accuracy=np.zeros(D)\n",
    "    precision=np.zeros(D)\n",
    "    recall=np.zeros(D)\n",
    "    specificity=np.zeros(D)\n",
    "    clase = []#np.zeros(D, dtype = int)\n",
    "    \n",
    "    \n",
    "    for i in range(D):\n",
    "        #atrib=np.array(C)\n",
    "        #print('aquiii')\n",
    "        #print(C)\n",
    "        atributo=C[i]\n",
    "        row_i=CM[i,:]\n",
    "        col_i=CM[:,i]\n",
    "        \n",
    "        row_i_without_i=np.delete(row_i,i,0)\n",
    "        #print(row_i_without_i)\n",
    "        col_i_without_i=np.delete(col_i,i,0)\n",
    "        del_row_i=np.delete(CM,i,0)\n",
    "        del_col_i=np.delete(del_row_i,i,1)\n",
    "        \n",
    "        VP=CM[i,i]\n",
    "        #print(VP)\n",
    "        FN=np.sum(row_i_without_i)\n",
    "        #print(VN)\n",
    "        FP=np.sum(col_i_without_i)\n",
    "        VN=np.sum(del_col_i)\n",
    "#         print('VP VN FP FN', VP, VN,FP,FN )\n",
    "        \n",
    "        CM_new=[[VP,FN],[FP,VN]]\n",
    "        #print(CM_new)\n",
    "        CM_new=np.array(CM_new) # casting\n",
    "\n",
    "        # calculando las medidas de desempenho\n",
    "        div1=VP+VN+FP+FN\n",
    "        #print(div1)\n",
    "        div2=VP+FP\n",
    "        div3=VP+FN\n",
    "        div4=VN+FP\n",
    "        \n",
    "        accuracy[i]=save_value((VP+VN),div1)\n",
    "        precision[i]=save_value(VP,div2)\n",
    "        recall[i]=save_value(VP,div3)\n",
    "        specificity[i]=save_value(VN,div4)\n",
    "        clase.append(atributo)\n",
    "        \n",
    "        #print('###### Confusion Matrix para clase ',atributo, ' #####')\n",
    "        #print(CM_new)    \n",
    "        \n",
    "    Table = {'accuracy': accuracy, 'precision': precision, 'recall': recall, 'specificity': specificity, 'clase': clase}\n",
    "    df = pd.DataFrame(data=Table)\n",
    "    print(df)\n",
    "    #print(accuracy.shape)\n",
    "#     return accuracy\n",
    "    #print(df)"
   ]
  },
  {
   "cell_type": "code",
   "execution_count": 42,
   "metadata": {},
   "outputs": [],
   "source": [
    "def processMLPandP(y_iris, x_iris):\n",
    "    #iris  = pd.read_csv('glass.data', header = None)\n",
    "    #glass = pd.read_csv('glass.data', header = None)\n",
    "\n",
    "    #iris_data = iris.values\n",
    "\n",
    "    #y_iris = iris_data[:, 10]\n",
    "    #x_iris = iris_data[:, 1:10]\n",
    "\n",
    "    kf = KFold(n_splits=10, shuffle=True)\n",
    "    best_accuracy_mlp = 0\n",
    "    best_pred_mlp  = []\n",
    "    best_target_mlp = []\n",
    "\n",
    "    best_accuracy_p = 0\n",
    "    best_pred_p = []\n",
    "    best_target_p = []\n",
    "\n",
    "\n",
    "    for train_index, test_index in kf.split(x_iris):\n",
    "        x_train, x_test = x_iris[train_index], x_iris[test_index]\n",
    "        y_train, y_test = y_iris[train_index], y_iris[test_index]\n",
    "        clf = MLPClassifier(hidden_layer_sizes=(100, 100), max_iter=200)\n",
    "        clf.fit(x_train, y_train)\n",
    "        y_pred = clf.predict(x_test)\n",
    "        current_accuracy_1 = accuracy_score(y_test, y_pred)\n",
    "        if current_accuracy_1 > best_accuracy_mlp:\n",
    "            best_accuracy_mlp = current_accuracy_1\n",
    "            #best_matrix_conf_mlp  = confusion_matrix(y_test, y_pred)\n",
    "            best_pred_mlp = y_pred\n",
    "            best_target_mlp = y_test\n",
    "\n",
    "\n",
    "        clf_2 = Perceptron()\n",
    "        clf_2.fit(x_train, y_train)\n",
    "        y_pred = clf_2.predict(x_test)\n",
    "        current_accuracy_2 = accuracy_score(y_test, y_pred)\n",
    "\n",
    "        if current_accuracy_2 > best_accuracy_p:\n",
    "            best_accuracy_p = current_accuracy_2\n",
    "            best_pred_p = y_pred\n",
    "            best_target_p = y_test\n",
    "\n",
    "    print('MultiLayerPerceptron')\n",
    "    MultiClassConfusionMatrix(best_target_mlp, best_pred_mlp)\n",
    "    print('Perceptron')\n",
    "    MultiClassConfusionMatrix(best_target_p, best_pred_p)"
   ]
  },
  {
   "cell_type": "code",
   "execution_count": 47,
   "metadata": {},
   "outputs": [
    {
     "name": "stdout",
     "output_type": "stream",
     "text": [
      "####################### IRIS - DATASET #######################\n"
     ]
    },
    {
     "name": "stderr",
     "output_type": "stream",
     "text": [
      "/home/ylnner/anaconda3/envs/p37/lib/python3.7/site-packages/sklearn/neural_network/multilayer_perceptron.py:566: ConvergenceWarning: Stochastic Optimizer: Maximum iterations (200) reached and the optimization hasn't converged yet.\n",
      "  % self.max_iter, ConvergenceWarning)\n"
     ]
    },
    {
     "name": "stdout",
     "output_type": "stream",
     "text": [
      "MultiLayerPerceptron\n",
      "   accuracy  precision    recall  specificity            clase\n",
      "0  1.000000   1.000000  1.000000          1.0      Iris-setosa\n",
      "1  0.933333   1.000000  0.833333          1.0  Iris-versicolor\n",
      "2  0.933333   0.833333  1.000000          0.9   Iris-virginica\n",
      "Perceptron\n",
      "   accuracy  precision  recall  specificity            clase\n",
      "0       1.0   1.000000     1.0          1.0      Iris-setosa\n",
      "1       0.6   0.000000     0.0          1.0  Iris-versicolor\n",
      "2       0.6   0.454545     1.0          0.4   Iris-virginica\n"
     ]
    },
    {
     "name": "stderr",
     "output_type": "stream",
     "text": [
      "/home/ylnner/anaconda3/envs/p37/lib/python3.7/site-packages/sklearn/neural_network/multilayer_perceptron.py:566: ConvergenceWarning: Stochastic Optimizer: Maximum iterations (200) reached and the optimization hasn't converged yet.\n",
      "  % self.max_iter, ConvergenceWarning)\n"
     ]
    },
    {
     "name": "stdout",
     "output_type": "stream",
     "text": [
      "MultiLayerPerceptron\n",
      "   accuracy  precision  recall  specificity            clase\n",
      "0       1.0        1.0     1.0          1.0      Iris-setosa\n",
      "1       1.0        1.0     1.0          1.0  Iris-versicolor\n",
      "2       1.0        1.0     1.0          1.0   Iris-virginica\n",
      "Perceptron\n",
      "   accuracy  precision  recall  specificity            clase\n",
      "0       1.0   1.000000     1.0          1.0      Iris-setosa\n",
      "1       0.6   0.000000     0.0          1.0  Iris-versicolor\n",
      "2       0.6   0.454545     1.0          0.4   Iris-virginica\n"
     ]
    },
    {
     "name": "stderr",
     "output_type": "stream",
     "text": [
      "/home/ylnner/anaconda3/envs/p37/lib/python3.7/site-packages/sklearn/neural_network/multilayer_perceptron.py:566: ConvergenceWarning: Stochastic Optimizer: Maximum iterations (200) reached and the optimization hasn't converged yet.\n",
      "  % self.max_iter, ConvergenceWarning)\n"
     ]
    },
    {
     "name": "stdout",
     "output_type": "stream",
     "text": [
      "MultiLayerPerceptron\n",
      "   accuracy  precision  recall  specificity            clase\n",
      "0       1.0        1.0     1.0          1.0      Iris-setosa\n",
      "1       1.0        1.0     1.0          1.0  Iris-versicolor\n",
      "2       1.0        1.0     1.0          1.0   Iris-virginica\n",
      "Perceptron\n",
      "   accuracy  precision    recall  specificity            clase\n",
      "0       1.0        1.0  1.000000         1.00      Iris-setosa\n",
      "1       0.8        0.5  1.000000         0.75  Iris-versicolor\n",
      "2       0.8        1.0  0.571429         1.00   Iris-virginica\n"
     ]
    },
    {
     "name": "stderr",
     "output_type": "stream",
     "text": [
      "/home/ylnner/anaconda3/envs/p37/lib/python3.7/site-packages/sklearn/neural_network/multilayer_perceptron.py:566: ConvergenceWarning: Stochastic Optimizer: Maximum iterations (200) reached and the optimization hasn't converged yet.\n",
      "  % self.max_iter, ConvergenceWarning)\n"
     ]
    },
    {
     "name": "stdout",
     "output_type": "stream",
     "text": [
      "MultiLayerPerceptron\n",
      "   accuracy  precision  recall  specificity            clase\n",
      "0       1.0        1.0     1.0          1.0      Iris-setosa\n",
      "1       1.0        1.0     1.0          1.0  Iris-versicolor\n",
      "2       1.0        1.0     1.0          1.0   Iris-virginica\n",
      "Perceptron\n",
      "   accuracy  precision    recall  specificity            clase\n",
      "0  0.933333   0.800000  1.000000     0.909091      Iris-setosa\n",
      "1  0.866667   1.000000  0.333333     1.000000  Iris-versicolor\n",
      "2  0.933333   0.888889  1.000000     0.857143   Iris-virginica\n"
     ]
    },
    {
     "name": "stderr",
     "output_type": "stream",
     "text": [
      "/home/ylnner/anaconda3/envs/p37/lib/python3.7/site-packages/sklearn/neural_network/multilayer_perceptron.py:566: ConvergenceWarning: Stochastic Optimizer: Maximum iterations (200) reached and the optimization hasn't converged yet.\n",
      "  % self.max_iter, ConvergenceWarning)\n"
     ]
    },
    {
     "name": "stdout",
     "output_type": "stream",
     "text": [
      "MultiLayerPerceptron\n",
      "   accuracy  precision  recall  specificity            clase\n",
      "0       1.0        1.0     1.0          1.0      Iris-setosa\n",
      "1       1.0        1.0     1.0          1.0  Iris-versicolor\n",
      "2       1.0        1.0     1.0          1.0   Iris-virginica\n",
      "Perceptron\n",
      "   accuracy  precision  recall  specificity            clase\n",
      "0       1.0        1.0     1.0          1.0      Iris-setosa\n",
      "1       1.0        1.0     1.0          1.0  Iris-versicolor\n",
      "2       1.0        1.0     1.0          1.0   Iris-virginica\n"
     ]
    },
    {
     "name": "stderr",
     "output_type": "stream",
     "text": [
      "/home/ylnner/anaconda3/envs/p37/lib/python3.7/site-packages/sklearn/neural_network/multilayer_perceptron.py:566: ConvergenceWarning: Stochastic Optimizer: Maximum iterations (200) reached and the optimization hasn't converged yet.\n",
      "  % self.max_iter, ConvergenceWarning)\n"
     ]
    },
    {
     "name": "stdout",
     "output_type": "stream",
     "text": [
      "MultiLayerPerceptron\n",
      "   accuracy  precision  recall  specificity            clase\n",
      "0       1.0        1.0     1.0          1.0      Iris-setosa\n",
      "1       1.0        1.0     1.0          1.0  Iris-versicolor\n",
      "2       1.0        1.0     1.0          1.0   Iris-virginica\n",
      "Perceptron\n",
      "   accuracy  precision  recall  specificity            clase\n",
      "0       1.0        1.0     1.0          1.0      Iris-setosa\n",
      "1       1.0        1.0     1.0          1.0  Iris-versicolor\n",
      "2       1.0        1.0     1.0          1.0   Iris-virginica\n"
     ]
    },
    {
     "name": "stderr",
     "output_type": "stream",
     "text": [
      "/home/ylnner/anaconda3/envs/p37/lib/python3.7/site-packages/sklearn/neural_network/multilayer_perceptron.py:566: ConvergenceWarning: Stochastic Optimizer: Maximum iterations (200) reached and the optimization hasn't converged yet.\n",
      "  % self.max_iter, ConvergenceWarning)\n"
     ]
    },
    {
     "name": "stdout",
     "output_type": "stream",
     "text": [
      "MultiLayerPerceptron\n",
      "   accuracy  precision  recall  specificity            clase\n",
      "0       1.0        1.0     1.0          1.0      Iris-setosa\n",
      "1       1.0        1.0     1.0          1.0  Iris-versicolor\n",
      "2       1.0        1.0     1.0          1.0   Iris-virginica\n",
      "Perceptron\n",
      "   accuracy  precision  recall  specificity            clase\n",
      "0       1.0        1.0     1.0          1.0      Iris-setosa\n",
      "1       1.0        1.0     1.0          1.0  Iris-versicolor\n",
      "2       1.0        1.0     1.0          1.0   Iris-virginica\n"
     ]
    },
    {
     "name": "stderr",
     "output_type": "stream",
     "text": [
      "/home/ylnner/anaconda3/envs/p37/lib/python3.7/site-packages/sklearn/neural_network/multilayer_perceptron.py:566: ConvergenceWarning: Stochastic Optimizer: Maximum iterations (200) reached and the optimization hasn't converged yet.\n",
      "  % self.max_iter, ConvergenceWarning)\n"
     ]
    },
    {
     "name": "stdout",
     "output_type": "stream",
     "text": [
      "MultiLayerPerceptron\n",
      "   accuracy  precision  recall  specificity            clase\n",
      "0       1.0        1.0     1.0          1.0      Iris-setosa\n",
      "1       1.0        1.0     1.0          1.0  Iris-versicolor\n",
      "2       1.0        1.0     1.0          1.0   Iris-virginica\n",
      "Perceptron\n",
      "   accuracy  precision  recall  specificity            clase\n",
      "0       1.0        1.0     1.0          1.0      Iris-setosa\n",
      "1       1.0        1.0     1.0          1.0  Iris-versicolor\n",
      "2       1.0        1.0     1.0          1.0   Iris-virginica\n"
     ]
    },
    {
     "name": "stderr",
     "output_type": "stream",
     "text": [
      "/home/ylnner/anaconda3/envs/p37/lib/python3.7/site-packages/sklearn/neural_network/multilayer_perceptron.py:566: ConvergenceWarning: Stochastic Optimizer: Maximum iterations (200) reached and the optimization hasn't converged yet.\n",
      "  % self.max_iter, ConvergenceWarning)\n"
     ]
    },
    {
     "name": "stdout",
     "output_type": "stream",
     "text": [
      "MultiLayerPerceptron\n",
      "   accuracy  precision  recall  specificity            clase\n",
      "0       1.0        1.0     1.0          1.0      Iris-setosa\n",
      "1       1.0        1.0     1.0          1.0  Iris-versicolor\n",
      "2       1.0        1.0     1.0          1.0   Iris-virginica\n",
      "Perceptron\n",
      "   accuracy  precision  recall  specificity            clase\n",
      "0       1.0        1.0     1.0          1.0      Iris-setosa\n",
      "1       1.0        1.0     1.0          1.0  Iris-versicolor\n",
      "2       1.0        1.0     1.0          1.0   Iris-virginica\n"
     ]
    },
    {
     "name": "stderr",
     "output_type": "stream",
     "text": [
      "/home/ylnner/anaconda3/envs/p37/lib/python3.7/site-packages/sklearn/neural_network/multilayer_perceptron.py:566: ConvergenceWarning: Stochastic Optimizer: Maximum iterations (200) reached and the optimization hasn't converged yet.\n",
      "  % self.max_iter, ConvergenceWarning)\n"
     ]
    },
    {
     "name": "stdout",
     "output_type": "stream",
     "text": [
      "MultiLayerPerceptron\n",
      "   accuracy  precision  recall  specificity            clase\n",
      "0       1.0        1.0     1.0          1.0      Iris-setosa\n",
      "1       1.0        1.0     1.0          1.0  Iris-versicolor\n",
      "2       1.0        1.0     1.0          1.0   Iris-virginica\n",
      "Perceptron\n",
      "   accuracy  precision  recall  specificity            clase\n",
      "0       1.0        1.0     1.0          1.0      Iris-setosa\n",
      "1       1.0        1.0     1.0          1.0  Iris-versicolor\n",
      "2       1.0        1.0     1.0          1.0   Iris-virginica\n",
      "####################### GLASS - DATASET #######################\n",
      "MultiLayerPerceptron\n",
      "   accuracy  precision  recall  specificity  clase\n",
      "0  0.272727   0.238095     1.0     0.058824    1.0\n",
      "1  0.636364   0.000000     0.0     0.933333    2.0\n",
      "2  0.909091   0.000000     0.0     1.000000    3.0\n",
      "3  0.909091   0.000000     0.0     1.000000    5.0\n",
      "4  0.863636   0.000000     0.0     1.000000    6.0\n",
      "5  0.863636   0.000000     0.0     1.000000    7.0\n",
      "Perceptron\n",
      "   accuracy  precision  recall  specificity  clase\n",
      "0  0.681818   0.416667     1.0     0.588235    1.0\n",
      "1  0.681818   0.000000     0.0     1.000000    2.0\n",
      "2  0.909091   0.000000     0.0     1.000000    3.0\n",
      "3  0.909091   0.000000     0.0     1.000000    5.0\n",
      "4  0.863636   0.000000     0.0     1.000000    6.0\n",
      "5  0.681818   0.300000     1.0     0.631579    7.0\n",
      "MultiLayerPerceptron\n",
      "   accuracy  precision  recall  specificity  clase\n",
      "0  0.272727   0.272727     1.0          0.0    1.0\n",
      "1  0.545455   0.000000     0.0          1.0    2.0\n",
      "2  0.863636   0.000000     0.0          1.0    3.0\n",
      "3  0.863636   0.000000     0.0          1.0    7.0\n",
      "Perceptron\n",
      "   accuracy  precision  recall  specificity  clase\n",
      "0  0.681818   0.416667     1.0     0.588235    1.0\n",
      "1  0.681818   0.000000     0.0     1.000000    2.0\n",
      "2  0.909091   0.000000     0.0     1.000000    3.0\n",
      "3  0.909091   0.000000     0.0     1.000000    5.0\n",
      "4  0.863636   0.000000     0.0     1.000000    6.0\n",
      "5  0.681818   0.300000     1.0     0.631579    7.0\n"
     ]
    },
    {
     "name": "stderr",
     "output_type": "stream",
     "text": [
      "/home/ylnner/anaconda3/envs/p37/lib/python3.7/site-packages/sklearn/neural_network/multilayer_perceptron.py:566: ConvergenceWarning: Stochastic Optimizer: Maximum iterations (200) reached and the optimization hasn't converged yet.\n",
      "  % self.max_iter, ConvergenceWarning)\n"
     ]
    },
    {
     "name": "stdout",
     "output_type": "stream",
     "text": [
      "MultiLayerPerceptron\n",
      "   accuracy  precision    recall  specificity  clase\n",
      "0  0.590909   0.333333  0.500000     0.625000    1.0\n",
      "1  0.545455   0.400000  0.500000     0.571429    2.0\n",
      "2  0.909091   0.000000  0.000000     1.000000    3.0\n",
      "3  0.909091   1.000000  0.333333     1.000000    5.0\n",
      "4  0.954545   0.000000  0.000000     1.000000    6.0\n",
      "5  1.000000   1.000000  1.000000     1.000000    7.0\n",
      "Perceptron\n",
      "   accuracy  precision  recall  specificity  clase\n",
      "0  0.681818   0.416667     1.0     0.588235    1.0\n",
      "1  0.681818   0.000000     0.0     1.000000    2.0\n",
      "2  0.909091   0.000000     0.0     1.000000    3.0\n",
      "3  0.909091   0.000000     0.0     1.000000    5.0\n",
      "4  0.863636   0.000000     0.0     1.000000    6.0\n",
      "5  0.681818   0.300000     1.0     0.631579    7.0\n",
      "MultiLayerPerceptron\n",
      "   accuracy  precision    recall  specificity  clase\n",
      "0  0.590909   0.333333  0.500000     0.625000    1.0\n",
      "1  0.545455   0.400000  0.500000     0.571429    2.0\n",
      "2  0.909091   0.000000  0.000000     1.000000    3.0\n",
      "3  0.909091   1.000000  0.333333     1.000000    5.0\n",
      "4  0.954545   0.000000  0.000000     1.000000    6.0\n",
      "5  1.000000   1.000000  1.000000     1.000000    7.0\n",
      "Perceptron\n",
      "   accuracy  precision  recall  specificity  clase\n",
      "0  0.681818   0.416667     1.0     0.588235    1.0\n",
      "1  0.681818   0.000000     0.0     1.000000    2.0\n",
      "2  0.909091   0.000000     0.0     1.000000    3.0\n",
      "3  0.909091   0.000000     0.0     1.000000    5.0\n",
      "4  0.863636   0.000000     0.0     1.000000    6.0\n",
      "5  0.681818   0.300000     1.0     0.631579    7.0\n"
     ]
    },
    {
     "name": "stderr",
     "output_type": "stream",
     "text": [
      "/home/ylnner/anaconda3/envs/p37/lib/python3.7/site-packages/sklearn/neural_network/multilayer_perceptron.py:566: ConvergenceWarning: Stochastic Optimizer: Maximum iterations (200) reached and the optimization hasn't converged yet.\n",
      "  % self.max_iter, ConvergenceWarning)\n"
     ]
    },
    {
     "name": "stdout",
     "output_type": "stream",
     "text": [
      "MultiLayerPerceptron\n",
      "   accuracy  precision    recall  specificity  clase\n",
      "0  0.714286   0.454545  1.000000     0.625000    1.0\n",
      "1  0.714286   0.500000  0.333333     0.866667    2.0\n",
      "2  0.857143   0.000000  0.000000     1.000000    3.0\n",
      "3  0.952381   1.000000  0.500000     1.000000    5.0\n",
      "4  0.952381   0.000000  0.000000     1.000000    6.0\n",
      "5  0.952381   0.800000  1.000000     0.941176    7.0\n",
      "Perceptron\n",
      "   accuracy  precision  recall  specificity  clase\n",
      "0  0.619048   0.384615     1.0     0.500000    1.0\n",
      "1  0.714286   0.000000     0.0     1.000000    2.0\n",
      "2  0.857143   0.000000     0.0     1.000000    3.0\n",
      "3  0.904762   0.000000     0.0     1.000000    5.0\n",
      "4  0.952381   0.000000     0.0     1.000000    6.0\n",
      "5  0.809524   0.500000     1.0     0.764706    7.0\n",
      "MultiLayerPerceptron\n",
      "   accuracy  precision    recall  specificity  clase\n",
      "0  0.714286   0.454545  1.000000     0.625000    1.0\n",
      "1  0.714286   0.500000  0.333333     0.866667    2.0\n",
      "2  0.857143   0.000000  0.000000     1.000000    3.0\n",
      "3  0.952381   1.000000  0.500000     1.000000    5.0\n",
      "4  0.952381   0.000000  0.000000     1.000000    6.0\n",
      "5  0.952381   0.800000  1.000000     0.941176    7.0\n",
      "Perceptron\n",
      "   accuracy  precision  recall  specificity  clase\n",
      "0  0.619048   0.384615     1.0     0.500000    1.0\n",
      "1  0.714286   0.000000     0.0     1.000000    2.0\n",
      "2  0.857143   0.000000     0.0     1.000000    3.0\n",
      "3  0.904762   0.000000     0.0     1.000000    5.0\n",
      "4  0.952381   0.000000     0.0     1.000000    6.0\n",
      "5  0.809524   0.500000     1.0     0.764706    7.0\n",
      "MultiLayerPerceptron\n",
      "   accuracy  precision    recall  specificity  clase\n",
      "0  0.714286   0.454545  1.000000     0.625000    1.0\n",
      "1  0.714286   0.500000  0.333333     0.866667    2.0\n",
      "2  0.857143   0.000000  0.000000     1.000000    3.0\n",
      "3  0.952381   1.000000  0.500000     1.000000    5.0\n",
      "4  0.952381   0.000000  0.000000     1.000000    6.0\n",
      "5  0.952381   0.800000  1.000000     0.941176    7.0\n",
      "Perceptron\n",
      "   accuracy  precision  recall  specificity  clase\n",
      "0  0.619048   0.384615     1.0     0.500000    1.0\n",
      "1  0.714286   0.000000     0.0     1.000000    2.0\n",
      "2  0.857143   0.000000     0.0     1.000000    3.0\n",
      "3  0.904762   0.000000     0.0     1.000000    5.0\n",
      "4  0.952381   0.000000     0.0     1.000000    6.0\n",
      "5  0.809524   0.500000     1.0     0.764706    7.0\n"
     ]
    },
    {
     "name": "stderr",
     "output_type": "stream",
     "text": [
      "/home/ylnner/anaconda3/envs/p37/lib/python3.7/site-packages/sklearn/neural_network/multilayer_perceptron.py:566: ConvergenceWarning: Stochastic Optimizer: Maximum iterations (200) reached and the optimization hasn't converged yet.\n",
      "  % self.max_iter, ConvergenceWarning)\n"
     ]
    },
    {
     "name": "stdout",
     "output_type": "stream",
     "text": [
      "MultiLayerPerceptron\n",
      "   accuracy  precision    recall  specificity  clase\n",
      "0  0.714286   0.454545  1.000000     0.625000    1.0\n",
      "1  0.714286   0.500000  0.333333     0.866667    2.0\n",
      "2  0.857143   0.000000  0.000000     1.000000    3.0\n",
      "3  0.952381   1.000000  0.500000     1.000000    5.0\n",
      "4  0.952381   0.000000  0.000000     1.000000    6.0\n",
      "5  0.952381   0.800000  1.000000     0.941176    7.0\n",
      "Perceptron\n",
      "   accuracy  precision  recall  specificity  clase\n",
      "0  0.619048   0.384615     1.0     0.500000    1.0\n",
      "1  0.714286   0.000000     0.0     1.000000    2.0\n",
      "2  0.857143   0.000000     0.0     1.000000    3.0\n",
      "3  0.904762   0.000000     0.0     1.000000    5.0\n",
      "4  0.952381   0.000000     0.0     1.000000    6.0\n",
      "5  0.809524   0.500000     1.0     0.764706    7.0\n",
      "MultiLayerPerceptron\n",
      "   accuracy  precision    recall  specificity  clase\n",
      "0  0.714286   0.454545  1.000000     0.625000    1.0\n",
      "1  0.714286   0.500000  0.333333     0.866667    2.0\n",
      "2  0.857143   0.000000  0.000000     1.000000    3.0\n",
      "3  0.952381   1.000000  0.500000     1.000000    5.0\n",
      "4  0.952381   0.000000  0.000000     1.000000    6.0\n",
      "5  0.952381   0.800000  1.000000     0.941176    7.0\n",
      "Perceptron\n",
      "   accuracy  precision  recall  specificity  clase\n",
      "0  0.619048   0.384615     1.0     0.500000    1.0\n",
      "1  0.714286   0.000000     0.0     1.000000    2.0\n",
      "2  0.857143   0.000000     0.0     1.000000    3.0\n",
      "3  0.904762   0.000000     0.0     1.000000    5.0\n",
      "4  0.952381   0.000000     0.0     1.000000    6.0\n",
      "5  0.809524   0.500000     1.0     0.764706    7.0\n",
      "MultiLayerPerceptron\n",
      "   accuracy  precision    recall  specificity  clase\n",
      "0  0.714286   0.833333  0.500000     0.909091    1.0\n",
      "1  0.619048   0.400000  0.666667     0.600000    2.0\n",
      "2  0.952381   0.000000  0.000000     0.952381    6.0\n",
      "3  0.952381   0.000000  0.000000     1.000000    7.0\n",
      "Perceptron\n",
      "   accuracy  precision  recall  specificity  clase\n",
      "0  0.523810   0.000000     0.0     1.000000    1.0\n",
      "1  0.476190   0.352941     1.0     0.266667    2.0\n",
      "2  0.952381   0.000000     0.0     1.000000    6.0\n",
      "3  1.000000   1.000000     1.0     1.000000    7.0\n"
     ]
    },
    {
     "name": "stderr",
     "output_type": "stream",
     "text": [
      "/home/ylnner/anaconda3/envs/p37/lib/python3.7/site-packages/sklearn/neural_network/multilayer_perceptron.py:566: ConvergenceWarning: Stochastic Optimizer: Maximum iterations (200) reached and the optimization hasn't converged yet.\n",
      "  % self.max_iter, ConvergenceWarning)\n"
     ]
    }
   ],
   "source": [
    "#glass.head()\n",
    "\n",
    "if __name__ == '__main__':\n",
    "    iris  = pd.read_csv('bezdekIris.data', header = None)\n",
    "    glass = pd.read_csv('glass.data', header = None)\n",
    "\n",
    "    iris_data = iris.values\n",
    "    y_iris = iris_data[:, 4]\n",
    "    x_iris = iris_data[:, 0:4]\n",
    "    \n",
    "    print(\"####################### IRIS - DATASET #######################\")\n",
    "    processMLPandP(y_iris, x_iris)\n",
    "    \n",
    "    glass_data = glass.values\n",
    "    y_glass = glass_data[:, 10]\n",
    "    x_glass = glass_data[:, 1:10]\n",
    "    \n",
    "    print(\"####################### GLASS - DATASET #######################\")\n",
    "    processMLPandP(y_glass, x_glass)"
   ]
  },
  {
   "cell_type": "code",
   "execution_count": null,
   "metadata": {},
   "outputs": [],
   "source": []
  }
 ],
 "metadata": {
  "kernelspec": {
   "display_name": "Python 3",
   "language": "python",
   "name": "python3"
  },
  "language_info": {
   "codemirror_mode": {
    "name": "ipython",
    "version": 3
   },
   "file_extension": ".py",
   "mimetype": "text/x-python",
   "name": "python",
   "nbconvert_exporter": "python",
   "pygments_lexer": "ipython3",
   "version": "3.7.3"
  }
 },
 "nbformat": 4,
 "nbformat_minor": 2
}
