{
 "cells": [
  {
   "cell_type": "code",
   "execution_count": 21,
   "metadata": {},
   "outputs": [],
   "source": [
    "import numpy as np\n",
    "import pandas as pd\n",
    "from sklearn.tree import DecisionTreeClassifier"
   ]
  },
  {
   "cell_type": "code",
   "execution_count": 51,
   "metadata": {},
   "outputs": [],
   "source": [
    "def load_data():\n",
    "    data = pd.read_csv('train.csv')\n",
    "    test = pd.read_csv('test.csv')\n",
    "    return data, test\n",
    "\n",
    "def getXandY(data, isTraining = True):\n",
    "    if isTraining:\n",
    "        aux = data.shape[1]\n",
    "        X = data.iloc[:, 2: aux]\n",
    "        Y = data.iloc[:, 1]        \n",
    "        return X, Y\n",
    "    else:\n",
    "        aux = data.shape[1]\n",
    "        X = data.iloc[:, 1: aux]\n",
    "        return X"
   ]
  },
  {
   "cell_type": "code",
   "execution_count": 46,
   "metadata": {},
   "outputs": [],
   "source": [
    "def generateTrain(data, criterion = 'gini'):        \n",
    "    decisionTree = DecisionTreeClassifier(criterion = criterion)\n",
    "    X, Y = getXandY(data)\n",
    "    decisionTree.fit(X, Y) \n",
    "    return decisionTree\n",
    "\n",
    "def makeTest(decisionTree, test):\n",
    "    X_test = getXandY(test, isTraining = False)\n",
    "    pred = decisionTree.predict(X_test)\n",
    "    print('Prediction')\n",
    "    print(pred)\n",
    "    #for row in X_test.iterrows():\n",
    "     #   pred = (row)        \n",
    "      #  print('Predicted Values')\n",
    "       # print(pred)"
   ]
  },
  {
   "cell_type": "code",
   "execution_count": 24,
   "metadata": {},
   "outputs": [],
   "source": [
    "def main():\n",
    "    data, test = load_data()\n",
    "    decisionTree = generateTrain(data.head())\n",
    "    makeTest(decisionTree, test.head())"
   ]
  },
  {
   "cell_type": "code",
   "execution_count": 52,
   "metadata": {},
   "outputs": [
    {
     "name": "stdout",
     "output_type": "stream",
     "text": [
      "X\n",
      "   ps_ind_01  ps_ind_02_cat  ps_ind_03  ps_ind_04_cat  ps_ind_05_cat  \\\n",
      "0          2              2          5              1              0   \n",
      "1          1              1          7              0              0   \n",
      "2          5              4          9              1              0   \n",
      "3          0              1          2              0              0   \n",
      "4          0              2          0              1              0   \n",
      "\n",
      "   ps_ind_06_bin  ps_ind_07_bin  ps_ind_08_bin  ps_ind_09_bin  ps_ind_10_bin  \\\n",
      "0              0              1              0              0              0   \n",
      "1              0              0              1              0              0   \n",
      "2              0              0              1              0              0   \n",
      "3              1              0              0              0              0   \n",
      "4              1              0              0              0              0   \n",
      "\n",
      "   ...  ps_calc_11  ps_calc_12  ps_calc_13  ps_calc_14  ps_calc_15_bin  \\\n",
      "0  ...           9           1           5           8               0   \n",
      "1  ...           3           1           1           9               0   \n",
      "2  ...           4           2           7           7               0   \n",
      "3  ...           2           2           4           9               0   \n",
      "4  ...           3           1           1           3               0   \n",
      "\n",
      "   ps_calc_16_bin  ps_calc_17_bin  ps_calc_18_bin  ps_calc_19_bin  \\\n",
      "0               1               1               0               0   \n",
      "1               1               1               0               1   \n",
      "2               1               1               0               1   \n",
      "3               0               0               0               0   \n",
      "4               0               0               1               1   \n",
      "\n",
      "   ps_calc_20_bin  \n",
      "0               1  \n",
      "1               0  \n",
      "2               0  \n",
      "3               0  \n",
      "4               0  \n",
      "\n",
      "[5 rows x 57 columns]\n",
      "Prediction\n",
      "[0 0 0 0 0]\n"
     ]
    }
   ],
   "source": [
    "if __name__ == '__main__':\n",
    "    main()"
   ]
  }
 ],
 "metadata": {
  "kernelspec": {
   "display_name": "Python 3",
   "language": "python",
   "name": "python3"
  },
  "language_info": {
   "codemirror_mode": {
    "name": "ipython",
    "version": 3
   },
   "file_extension": ".py",
   "mimetype": "text/x-python",
   "name": "python",
   "nbconvert_exporter": "python",
   "pygments_lexer": "ipython3",
   "version": "3.7.3"
  }
 },
 "nbformat": 4,
 "nbformat_minor": 2
}
